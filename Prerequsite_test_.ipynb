{
  "nbformat": 4,
  "nbformat_minor": 0,
  "metadata": {
    "colab": {
      "provenance": []
    },
    "kernelspec": {
      "name": "python3",
      "display_name": "Python 3"
    },
    "language_info": {
      "name": "python"
    }
  },
  "cells": [
    {
      "cell_type": "markdown",
      "source": [
        "1) To multiply an (n,k) matrix by a (k,m) matrix\n",
        "\n",
        "Total Multiplications: n⋅m⋅k\n",
        "\n",
        "Total Additions: n⋅m⋅(k−1)\n",
        "\n",
        "The final matrix has n×m total elements.\n",
        "\n",
        "Calculating each of these elements requires a dot product.\n",
        "\n",
        "This single dot product takes k multiplications and k−1 additions.\n",
        "\n",
        "This process is repeated for all n×m elements in the resulting matrix to find the total number of operations."
      ],
      "metadata": {
        "id": "-5FP_0gwzqrS"
      }
    },
    {
      "cell_type": "code",
      "source": [
        "#2\n",
        "import time, random, numpy as np\n",
        "\n",
        "def matmul_lists(a, b):\n",
        "    return [[sum(a[i][k] * b[k][j] for k in range(len(a[0])))\n",
        "             for j in range(len(b[0]))] for i in range(len(a))]\n",
        "\n",
        "rows_a, shared_dim, cols_b = 250, 500, 300\n",
        "print(f\"Multiplying ({rows_a} x {shared_dim}) with ({shared_dim} x {cols_b})\\n\")\n",
        "\n",
        "A = [[random.random() for _ in range(shared_dim)] for _ in range(rows_a)]\n",
        "B = [[random.random() for _ in range(cols_b)] for _ in range(shared_dim)]\n",
        "\n",
        "\n",
        "t1 = time.time()\n",
        "matmul_lists(A, B)\n",
        "t2 = time.time()\n",
        "list_time = t2 - t1\n",
        "print(f\"List-based: {list_time:.6f} seconds\\n{'-'*50}\")\n",
        "\n",
        "\n",
        "A_np, B_np = np.array(A), np.array(B)\n",
        "t3 = time.time()\n",
        "A_np @ B_np\n",
        "t4 = time.time()\n",
        "np_time = t4 - t3\n",
        "print(f\"NumPy: {np_time:.6f} seconds\\n{'-'*50}\")\n",
        "\n",
        "\n",
        "if np_time < list_time:\n",
        "    print(f\"NumPy is faster by ~{list_time/np_time:.2f}x.\")\n",
        "else:\n",
        "    print(\"Lists were faster (unlikely).\")\n",
        "\n",
        "print(\"\\nWhy NumPy is faster:\\n1. Optimized C backend\\n2. Contiguous memory storage\\n3. Vectorized CPU instructions (SIMD)\")\n"
      ],
      "metadata": {
        "colab": {
          "base_uri": "https://localhost:8080/"
        },
        "id": "0GeWbJ8Hsx7b",
        "outputId": "fdb7c4d6-795e-4720-c8fe-5438870b2a21"
      },
      "execution_count": 36,
      "outputs": [
        {
          "output_type": "stream",
          "name": "stdout",
          "text": [
            "Multiplying (250 x 500) with (500 x 300)\n",
            "\n",
            "List-based: 5.490535 seconds\n",
            "--------------------------------------------------\n",
            "NumPy: 0.003114 seconds\n",
            "--------------------------------------------------\n",
            "NumPy is faster by ~1762.92x.\n",
            "\n",
            "Why NumPy is faster:\n",
            "1. Optimized C backend\n",
            "2. Contiguous memory storage\n",
            "3. Vectorized CPU instructions (SIMD)\n"
          ]
        }
      ]
    },
    {
      "cell_type": "code",
      "source": [
        "#3\n",
        "import time\n",
        "import random, time, numpy as np\n",
        "\n",
        "def median_passes(data):\n",
        "    arr = data[:]\n",
        "    for _ in range(len(arr)//2):\n",
        "        arr.remove(min(arr))\n",
        "    return float(min(arr)) if len(data) % 2 else (lambda x, y: (x+y)/2)(*sorted(arr[:2]))\n",
        "\n",
        "def median_sort(data):\n",
        "    arr = sorted(data)\n",
        "    mid = len(arr)//2\n",
        "    return float(arr[mid]) if len(arr) % 2 else (arr[mid-1] + arr[mid]) / 2\n",
        "\n",
        "size = 5000\n",
        "nums = [random.random() for _ in range(size)]\n",
        "print(f\"Finding the median of {size:,} elements.\\n\")\n",
        "\n",
        "\n",
        "t1 = time.time()\n",
        "m1 = median_passes(nums)\n",
        "t1 = time.time() - t1\n",
        "print(f\"--- Passes Method ---\\nMedian: {m1}\\nTime: {t1:.6f}s\\n{'-'*45}\")\n",
        "\n",
        "\n",
        "t2s = time.time()\n",
        "m2 = median_sort(nums)\n",
        "t2 = time.time() - t2s\n",
        "print(f\"--- Sorting Method ---\\nMedian: {m2}\\nTime: {t2:.6f}s\\n{'-'*45}\")\n",
        "\n",
        "\n",
        "arr_np = np.array(nums)\n",
        "t3s = time.time()\n",
        "m3 = np.median(arr_np)\n",
        "t3 = time.time() - t3s\n",
        "print(f\"--- NumPy Method ---\\nMedian: {m3}\\nTime: {t3:.6f}s\\n{'-'*45}\")\n",
        "\n",
        "\n",
        "print(f\"Sorting ~{t1/t2:.2f}x faster than passes\")\n",
        "print(f\"NumPy ~{t2/t3:.2f}x faster than sorting\")\n",
        "print(f\"NumPy ~{t1/t3:.2f}x faster than passes\")\n"
      ],
      "metadata": {
        "colab": {
          "base_uri": "https://localhost:8080/"
        },
        "id": "3dxqREdQteCh",
        "outputId": "0ac55397-cd60-4677-a8b7-2c337a97dc08"
      },
      "execution_count": 38,
      "outputs": [
        {
          "output_type": "stream",
          "name": "stdout",
          "text": [
            "Finding the median of 5,000 elements.\n",
            "\n",
            "--- Passes Method ---\n",
            "Median: 0.6476955576305643\n",
            "Time: 0.193614s\n",
            "---------------------------------------------\n",
            "--- Sorting Method ---\n",
            "Median: 0.4957015964173023\n",
            "Time: 0.000860s\n",
            "---------------------------------------------\n",
            "--- NumPy Method ---\n",
            "Median: 0.4957015964173023\n",
            "Time: 0.000317s\n",
            "---------------------------------------------\n",
            "Sorting ~225.01x faster than passes\n",
            "NumPy ~2.72x faster than sorting\n",
            "NumPy ~611.04x faster than passes\n"
          ]
        }
      ]
    },
    {
      "cell_type": "markdown",
      "source": [
        "4)The function given is:\n",
        "f(x,y)=x²y + y³\n",
        "\n",
        "To find the gradient, we need to calculate the partial derivatives of the function with respect to both x and y.\n",
        "\n",
        "The derivarive of x²y is 2xy\n",
        "The derivative of y³\n",
        "sin(x) is y³ cos(x)\n",
        "\n",
        "So the partial derivative with respect to x is\n",
        "fracpartial f partialx =2xy+y³cos(x)\n",
        "\n",
        "The derivative of x²y is x².\n",
        "The derivative of y³ sin(x) is 3y² sin(x)\n",
        "\n",
        "so the partial derivative with respect to y is\n",
        "fracpartial f partially = x² + 3y² sin(x)\n",
        "\n",
        "The gradient\n",
        "nabla f , is a vector containing both partial derivatives.\n",
        "\n",
        "nabla f(x,y)= left[fracpartial f partialx,fracpartial f partially right] = [2xy + y³cos(x),quadx²+3y² sin (x)]"
      ],
      "metadata": {
        "id": "W-YJyO54zOOP"
      }
    },
    {
      "cell_type": "code",
      "source": [
        "#5\n",
        "!pip install jax jaxlib -q\n",
        "import jax\n",
        "import jax.numpy as jnp\n",
        "import random as rnd\n",
        "\n",
        "\n",
        "def func(a, b):\n",
        "    return a**2 * b + b**3 * jnp.sin(a)\n",
        "\n",
        "\n",
        "def grad_manual(a, b):\n",
        "    return jnp.array([\n",
        "        2*a*b + b**3 * jnp.cos(a),\n",
        "        a**2 + 3*b**2 * jnp.sin(a)\n",
        "    ])\n",
        "\n",
        "\n",
        "grad_jax = jax.grad(func, argnums=(0, 1))\n",
        "\n",
        "print(\"--- Gradient Check ---\")\n",
        "for _ in range(3):\n",
        "    p, q = rnd.uniform(1, 10), rnd.uniform(1, 10)\n",
        "    g_jax = jnp.array(grad_jax(p, q))\n",
        "    g_manual = grad_manual(p, q)\n",
        "    print(f\"\\nAt (a, b) = ({p:.2f}, {q:.2f}):\")\n",
        "    print(f\"  JAX:   {g_jax}\")\n",
        "    print(f\"  Manual:{g_manual}\")\n",
        "    print(\"  Match?\", jnp.allclose(g_jax, g_manual))\n",
        "\n",
        "print(\"\\nVerified: Analytical gradient matches JAX.\")\n"
      ],
      "metadata": {
        "colab": {
          "base_uri": "https://localhost:8080/"
        },
        "id": "a84sNrlFAdQz",
        "outputId": "45117f00-a6a7-40be-9e10-eb273bb736b2"
      },
      "execution_count": 2,
      "outputs": [
        {
          "output_type": "stream",
          "name": "stdout",
          "text": [
            "--- Gradient Check ---\n",
            "\n",
            "At (a, b) = (9.58, 4.11):\n",
            "  JAX:   [10.294144 83.84804 ]\n",
            "  Manual:[10.294136 83.848045]\n",
            "  Match? True\n",
            "\n",
            "At (a, b) = (4.42, 2.81):\n",
            "  JAX:   [18.568434  -3.1426468]\n",
            "  Manual:[18.568436 -3.142643]\n",
            "  Match? True\n",
            "\n",
            "At (a, b) = (2.00, 3.34):\n",
            "  JAX:   [-2.1470165 34.482723 ]\n",
            "  Manual:[-2.1470165 34.482723 ]\n",
            "  Match? True\n",
            "\n",
            "Verified: Analytical gradient matches JAX.\n"
          ]
        }
      ]
    },
    {
      "cell_type": "code",
      "source": [
        "#6\n",
        "import sympy as sp\n",
        "\n",
        "u, v = sp.symbols('u v')\n",
        "\n",
        "g = u**2 * v + v**3 * sp.sin(u)\n",
        "\n",
        "grad_g = sp.Matrix([sp.diff(g, u), sp.diff(g, v)])\n",
        "\n",
        "print(\"Function:\")\n",
        "sp.pprint(g, use_unicode=True)\n",
        "print(\"\\nGradient:\")\n",
        "sp.pprint(grad_g, use_unicode=True)\n"
      ],
      "metadata": {
        "colab": {
          "base_uri": "https://localhost:8080/"
        },
        "id": "vZ0Cm4M1AmTi",
        "outputId": "c5f85cdd-77f7-460f-9849-077b42a58623"
      },
      "execution_count": 41,
      "outputs": [
        {
          "output_type": "stream",
          "name": "stdout",
          "text": [
            "Function:\n",
            " 2      3       \n",
            "u ⋅v + v ⋅sin(u)\n",
            "\n",
            "Gradient:\n",
            "⎡         3       ⎤\n",
            "⎢2⋅u⋅v + v ⋅cos(u)⎥\n",
            "⎢                 ⎥\n",
            "⎢ 2      2        ⎥\n",
            "⎣u  + 3⋅v ⋅sin(u) ⎦\n"
          ]
        }
      ]
    },
    {
      "cell_type": "code",
      "source": [
        "#7\n",
        "data = {\n",
        "    2022: {\n",
        "        \"CSE\": [\n",
        "            {\n",
        "                \"ID\": 1,\n",
        "                \"Name\": \"Alex\",\n",
        "                \"Scores\": {\"Math\": 100, \"Eng\": 70}\n",
        "            }\n",
        "        ],\n",
        "        \"ECE\": []\n",
        "    },\n",
        "    2023: {\"CSE\": [], \"ECE\": []},\n",
        "    2024: {\"CSE\": [], \"ECE\": []},\n",
        "    2025: {\"CSE\": [], \"ECE\": []}\n",
        "}\n",
        "\n",
        "print(data)\n"
      ],
      "metadata": {
        "colab": {
          "base_uri": "https://localhost:8080/"
        },
        "id": "Tw7pW5VdFCKY",
        "outputId": "2452221e-e97f-4056-b8a9-395c9015c5c8"
      },
      "execution_count": 42,
      "outputs": [
        {
          "output_type": "stream",
          "name": "stdout",
          "text": [
            "{2022: {'CSE': [{'ID': 1, 'Name': 'Alex', 'Scores': {'Math': 100, 'Eng': 70}}], 'ECE': []}, 2023: {'CSE': [], 'ECE': []}, 2024: {'CSE': [], 'ECE': []}, 2025: {'CSE': [], 'ECE': []}}\n"
          ]
        }
      ]
    },
    {
      "cell_type": "code",
      "source": [
        "#8\n",
        "class Student:\n",
        "    def __init__(self, sid, name, scores):\n",
        "        self.sid = sid\n",
        "        self.name = name\n",
        "        self.scores = scores\n",
        "\n",
        "class Branch:\n",
        "    def __init__(self, bname):\n",
        "        self.bname = bname\n",
        "        self.students = []\n",
        "\n",
        "    def add(self, student):\n",
        "        self.students.append(student)\n",
        "\n",
        "class Year:\n",
        "    def __init__(self, yr):\n",
        "        self.yr = yr\n",
        "        self.branches = []\n",
        "\n",
        "    def add(self, branch):\n",
        "        self.branches.append(branch)\n",
        "\n",
        "class DB:\n",
        "    def __init__(self):\n",
        "        self.years = []\n",
        "\n",
        "    def add(self, year):\n",
        "        self.years.append(year)\n",
        "\n",
        "\n",
        "db = DB()\n",
        "\n",
        "\n",
        "y2022 = Year(2022)\n",
        "cse = Branch(\"CSE\")\n",
        "stu1 = Student(1, \"Alex\", {\"Math\": 100, \"Eng\": 70})\n",
        "\n",
        "cse.add(stu1)\n",
        "y2022.add(cse)\n",
        "y2022.add(Branch(\"ECE\"))\n",
        "\n",
        "db.add(y2022)\n",
        "\n",
        "for y in db.years:\n",
        "    print(f\"Year: {y.yr}\")\n",
        "    for b in y.branches:\n",
        "        print(f\"  {b.bname}\")\n",
        "        for s in b.students:\n",
        "            print(f\"    ID: {s.sid}, Name: {s.name}, Scores: {s.scores}\")\n",
        "\n"
      ],
      "metadata": {
        "colab": {
          "base_uri": "https://localhost:8080/"
        },
        "id": "jm5VdZ5YFMk8",
        "outputId": "841ec4e3-4e4b-402f-c91a-f66953e270f6"
      },
      "execution_count": 43,
      "outputs": [
        {
          "output_type": "stream",
          "name": "stdout",
          "text": [
            "Year: 2022\n",
            "  CSE\n",
            "    ID: 1, Name: Alex, Scores: {'Math': 100, 'Eng': 70}\n",
            "  ECE\n"
          ]
        }
      ]
    },
    {
      "cell_type": "code",
      "source": [
        "#9\n",
        "import numpy as np\n",
        "import matplotlib.pyplot as plt\n",
        "\n",
        "t = np.arange(0.5, 100.5, 0.5)\n",
        "\n",
        "fns = [\n",
        "    (t, \"y = t\"),\n",
        "    (t**2, \"y = t²\"),\n",
        "    (t**3 / 100, \"y = t³ / 100\"),\n",
        "    (np.sin(t), \"y = sin(t)\"),\n",
        "    (np.sin(t) / t, \"y = sin(t)/t\"),\n",
        "    (np.log(t), \"y = log(t)\"),\n",
        "    (np.exp(t / 50), \"y = e^(t/50)\")\n",
        "]\n",
        "\n",
        "plt.figure(figsize=(10, 8))\n",
        "for y, lbl in fns:\n",
        "    plt.plot(t, y, label=lbl)\n",
        "\n",
        "plt.xlabel(\"t\")\n",
        "plt.ylabel(\"y\")\n",
        "plt.title(\"Function Curves\")\n",
        "plt.legend()\n",
        "plt.grid(True)\n",
        "plt.show()\n"
      ],
      "metadata": {
        "colab": {
          "base_uri": "https://localhost:8080/",
          "height": 718
        },
        "id": "xUwXgKd8FdzV",
        "outputId": "4f286ecc-928c-4d89-cb2a-0ab08f5baae1"
      },
      "execution_count": 44,
      "outputs": [
        {
          "output_type": "display_data",
          "data": {
            "text/plain": [
              "<Figure size 1000x800 with 1 Axes>"
            ],
            "image/png": "[encoded data removed]"
          },
          "metadata": {}
        }
      ]
    },
    {
      "cell_type": "code",
      "source": [
        "#10\n",
        "import numpy as np\n",
        "import pandas as pd\n",
        "\n",
        "data = np.random.randint(1, 3, (20, 5))\n",
        "df = pd.DataFrame(data, columns=list(\"abcde\"))\n",
        "\n",
        "max_std_col = df.std().idxmax()\n",
        "min_mean_row = df.mean(1).idxmin()\n",
        "\n",
        "print(df)\n",
        "print(\"\\nMax std col:\", max_std_col)\n",
        "print(\"Min mean row:\", min_mean_row)\n"
      ],
      "metadata": {
        "colab": {
          "base_uri": "https://localhost:8080/"
        },
        "id": "VmdEcbjKGDD-",
        "outputId": "e02650fa-25b3-41ac-c087-30cf1701b7a4"
      },
      "execution_count": 45,
      "outputs": [
        {
          "output_type": "stream",
          "name": "stdout",
          "text": [
            "    a  b  c  d  e\n",
            "0   2  2  2  2  1\n",
            "1   1  2  2  2  1\n",
            "2   2  2  1  1  1\n",
            "3   1  2  1  1  1\n",
            "4   1  1  1  1  1\n",
            "5   2  2  2  1  1\n",
            "6   1  2  2  1  1\n",
            "7   1  2  1  1  2\n",
            "8   2  1  1  2  2\n",
            "9   1  1  2  2  1\n",
            "10  2  2  2  1  2\n",
            "11  1  2  1  2  1\n",
            "12  2  1  2  1  2\n",
            "13  2  2  1  1  2\n",
            "14  1  1  2  1  1\n",
            "15  1  2  1  1  1\n",
            "16  1  2  2  1  1\n",
            "17  2  2  1  1  1\n",
            "18  1  2  1  2  1\n",
            "19  1  2  2  1  1\n",
            "\n",
            "Max std col: c\n",
            "Min mean row: 4\n"
          ]
        }
      ]
    },
    {
      "cell_type": "code",
      "source": [
        "#11\n",
        "import numpy as np\n",
        "import pandas as pd\n",
        "\n",
        "scores = np.random.randint(1, 10, (20, 5))\n",
        "df = pd.DataFrame(scores, columns=[f\"sub{i}\" for i in range(1, 6)])\n",
        "\n",
        "df[\"total\"] = df.sum(axis=1)\n",
        "df[\"status\"] = np.where(df[\"total\"] < 8, \"LT8\", \"GT8\")\n",
        "\n",
        "lt8_cnt = (df[\"status\"] == \"LT8\").sum()\n",
        "\n",
        "grouped_std = df.groupby(\"status\")[\"total\"].std()\n",
        "lt8_std = grouped_std.get(\"LT8\", np.nan)\n",
        "gt8_std = grouped_std.get(\"GT8\", np.nan)\n",
        "\n",
        "\n",
        "print(df)\n",
        "print(\"\\nLT8 count:\", lt8_cnt)\n",
        "print(\"LT8 std:\", lt8_std)\n",
        "print(\"GT8 std:\", gt8_std)"
      ],
      "metadata": {
        "colab": {
          "base_uri": "https://localhost:8080/"
        },
        "id": "wM2-7K6JGL5z",
        "outputId": "41b6c043-b3f2-494a-b818-fb00ca5c5e07"
      },
      "execution_count": 48,
      "outputs": [
        {
          "output_type": "stream",
          "name": "stdout",
          "text": [
            "    sub1  sub2  sub3  sub4  sub5  total status\n",
            "0      8     2     4     2     1     17    GT8\n",
            "1      6     5     5     6     6     28    GT8\n",
            "2      2     6     1     7     9     25    GT8\n",
            "3      8     6     9     4     9     36    GT8\n",
            "4      3     6     1     5     4     19    GT8\n",
            "5      3     8     5     3     2     21    GT8\n",
            "6      7     3     1     4     7     22    GT8\n",
            "7      9     3     3     7     8     30    GT8\n",
            "8      4     4     4     2     4     18    GT8\n",
            "9      5     9     6     4     9     33    GT8\n",
            "10     4     5     9     2     3     23    GT8\n",
            "11     7     6     5     8     2     28    GT8\n",
            "12     3     7     1     6     2     19    GT8\n",
            "13     6     2     8     8     5     29    GT8\n",
            "14     3     2     4     8     5     22    GT8\n",
            "15     7     6     4     7     8     32    GT8\n",
            "16     4     5     1     7     6     23    GT8\n",
            "17     1     3     7     5     5     21    GT8\n",
            "18     9     5     1     9     6     30    GT8\n",
            "19     2     6     2     1     8     19    GT8\n",
            "\n",
            "LT8 count: 0\n",
            "LT8 std: nan\n",
            "GT8 std: 5.599577051697274\n"
          ]
        }
      ]
    },
    {
      "cell_type": "code",
      "source": [
        "#12\n",
        "import numpy as np\n",
        "\n",
        "matrix_2d = np.array([[2, 4, 6],\n",
        "                      [1, 3, 5],\n",
        "                      [7, 8, 9]])\n",
        "\n",
        "\n",
        "vector_1d = np.array([5, 10, 15])\n",
        "\n",
        "sum_result = matrix_2d + vector_1d\n",
        "\n",
        "print(\"Matrix:\\n\", matrix_2d)\n",
        "print(\"\\nVector:\\n\", vector_1d)\n",
        "print(\"\\nAfter Broadcasting Addition:\\n\", sum_result)\n"
      ],
      "metadata": {
        "colab": {
          "base_uri": "https://localhost:8080/"
        },
        "id": "OJ5JR03WPJDi",
        "outputId": "ff72f1f9-b2b5-4000-ad09-8c5e829ef9de"
      },
      "execution_count": 34,
      "outputs": [
        {
          "output_type": "stream",
          "name": "stdout",
          "text": [
            "Matrix:\n",
            " [[2 4 6]\n",
            " [1 3 5]\n",
            " [7 8 9]]\n",
            "\n",
            "Vector:\n",
            " [ 5 10 15]\n",
            "\n",
            "After Broadcasting Addition:\n",
            " [[ 7 14 21]\n",
            " [ 6 13 20]\n",
            " [12 18 24]]\n"
          ]
        }
      ]
    },
    {
      "cell_type": "code",
      "source": [
        "#13\n",
        "import numpy as np\n",
        "\n",
        "def get_min_index(num_array):\n",
        "    \"\"\"Return the index of the smallest value in the array.\"\"\"\n",
        "    return np.argmin(num_array)\n",
        "\n",
        "numbers = np.array([14, 7, 3, 9, 12])\n",
        "min_idx = get_min_index(numbers)\n",
        "\n",
        "print(\"Array:\", numbers)\n",
        "print(\"Index of smallest element:\", min_idx)\n",
        "print(\"Smallest value:\", numbers[min_idx])\n"
      ],
      "metadata": {
        "colab": {
          "base_uri": "https://localhost:8080/"
        },
        "id": "Ago2vEBgPddD",
        "outputId": "0d5c2606-badd-4f43-b28f-770fcf7583cb"
      },
      "execution_count": 1,
      "outputs": [
        {
          "output_type": "stream",
          "name": "stdout",
          "text": [
            "Array: [14  7  3  9 12]\n",
            "Index of smallest element: 2\n",
            "Smallest value: 3\n"
          ]
        }
      ]
    }
  ]
}